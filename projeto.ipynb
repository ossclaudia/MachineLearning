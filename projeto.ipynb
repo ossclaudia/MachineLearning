{
 "cells": [
  {
   "cell_type": "markdown",
   "metadata": {},
   "source": [
    "# Machine Learning: Assignment #1 \n",
    "\n",
    "Bárbara Nóbrega Galiza – 202408654​\n",
    "\n",
    "Cláudia Oliveira - 202005668​\n",
    "\n",
    "Marta Campos - 202008344"
   ]
  }
 ],
 "metadata": {
  "language_info": {
   "name": "python"
  }
 },
 "nbformat": 4,
 "nbformat_minor": 2
}
