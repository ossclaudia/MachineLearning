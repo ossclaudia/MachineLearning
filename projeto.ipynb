{
 "cells": [
  {
   "cell_type": "markdown",
   "metadata": {},
   "source": [
    "# Machine Learning: Assignment #1 \n",
    "\n",
    "Bárbara Nóbrega Galiza – 202408654​\n",
    "\n",
    "Cláudia Oliveira - 202005668​\n",
    "\n",
    "Marta Campos - 202008344"
   ]
  },
  {
   "cell_type": "markdown",
   "metadata": {},
   "source": [
    "What will vary:\n",
    "\n",
    "• number of instances (rows in your dataset table)\n",
    "\n",
    "• number of classes (for multi-class classification problems)\n",
    "\n",
    "• proportion of classes (balanced and imbalanced class problem)\n",
    "\n",
    "• distribution of points within each class (shape of point clouds)\n",
    "\n",
    "• shape of the border between the class regions, from linear to whatever\n",
    "\n",
    "• level of noise\n",
    "\n",
    "• level of overlap between the classes"
   ]
  },
  {
   "cell_type": "code",
   "execution_count": 4,
   "metadata": {},
   "outputs": [],
   "source": [
    "import numpy as np\n",
    "import matplotlib.pyplot as plt\n",
    "from sklearn.datasets import make_regression, make_classification\n",
    "from sklearn.discriminant_analysis import LinearDiscriminantAnalysis\n",
    "from sklearn.model_selection import train_test_split"
   ]
  },
  {
   "cell_type": "markdown",
   "metadata": {},
   "source": [
    "### Linear regression"
   ]
  },
  {
   "cell_type": "code",
   "execution_count": 20,
   "metadata": {},
   "outputs": [
    {
     "name": "stdout",
     "output_type": "stream",
     "text": [
      "Mean Squared Error: 258.7809283321852\n"
     ]
    }
   ],
   "source": [
    "X, y = make_regression(n_samples=100, n_features= 2, noise=15, random_state=42)\n",
    "y = y.reshape(-1, 1)\n",
    "m = X.shape[0]\n",
    "\n",
    "X_b = np.c_[np.ones((m, 1)), X]  \n",
    "theta = np.array([[2.0], [3.0], [1.5]])\n",
    "learning_rate = 0.1\n",
    "n_iterations = 100\n",
    "\n",
    "# Performing Gradient Descent\n",
    "for _ in range(n_iterations):\n",
    "    # Predictions\n",
    "    y_pred = X_b.dot(theta)\n",
    "    # Computing the gradient\n",
    "    gradients = (2 / m) * X_b.T.dot(y_pred - y)\n",
    "    # Updating parameters\n",
    "    theta -= learning_rate * gradients\n",
    "\n",
    "y_pred = X_b.dot(theta)\n",
    "\n",
    "mse = np.mean((y_pred - y) ** 2)\n",
    "print(\"Mean Squared Error:\", mse)"
   ]
  },
  {
   "cell_type": "markdown",
   "metadata": {},
   "source": [
    "• number of instances (rows in your dataset table)"
   ]
  },
  {
   "cell_type": "code",
   "execution_count": 25,
   "metadata": {},
   "outputs": [
    {
     "name": "stdout",
     "output_type": "stream",
     "text": [
      "Mean Squared Error: 217.9223352288815\n"
     ]
    }
   ],
   "source": [
    "X, y = make_regression(n_samples=1000, n_features= 2, noise=15, random_state=42)\n",
    "y = y.reshape(-1, 1)\n",
    "m = X.shape[0]\n",
    "\n",
    "X_b = np.c_[np.ones((m, 1)), X]  \n",
    "theta = np.array([[2.0], [3.0], [1.5]])\n",
    "learning_rate = 0.1\n",
    "n_iterations = 100\n",
    "\n",
    "# Performing Gradient Descent\n",
    "for _ in range(n_iterations):\n",
    "    # Predictions\n",
    "    y_pred = X_b.dot(theta)\n",
    "    # Computing the gradient\n",
    "    gradients = (2 / m) * X_b.T.dot(y_pred - y)\n",
    "    # Updating parameters\n",
    "    theta -= learning_rate * gradients\n",
    "\n",
    "y_pred = X_b.dot(theta)\n",
    "\n",
    "mse = np.mean((y_pred - y) ** 2)\n",
    "print(\"Mean Squared Error:\", mse)"
   ]
  },
  {
   "cell_type": "markdown",
   "metadata": {},
   "source": [
    "### Logistic Regression"
   ]
  },
  {
   "cell_type": "markdown",
   "metadata": {},
   "source": [
    "### LDA"
   ]
  },
  {
   "cell_type": "code",
   "execution_count": 13,
   "metadata": {},
   "outputs": [
    {
     "data": {
      "image/png": "[encoded data removed]",
      "text/plain": [
       "<Figure size 800x600 with 1 Axes>"
      ]
     },
     "metadata": {},
     "output_type": "display_data"
    }
   ],
   "source": [
    "X, y = make_classification(n_samples=100, n_features=5, n_classes=2, random_state=42)\n",
    "X_train, X_test, y_train, y_test = train_test_split(X, y, test_size=0.3, random_state=42)\n",
    "lda = LinearDiscriminantAnalysis()\n",
    "lda.fit(X_train, y_train)\n",
    "X_train_lda = lda.transform(X_train)\n",
    "X_test_lda = lda.transform(X_test)\n",
    "\n",
    "plt.figure(figsize=(8,6))\n",
    "plt.scatter(X_train_lda[y_train == 0, 0], np.zeros_like(X_train_lda[y_train == 0, 0]), color='red', label='Classe 0')\n",
    "plt.scatter(X_train_lda[y_train == 1, 0], np.ones_like(X_train_lda[y_train == 1, 0]), color='blue', label='Classe 1')\n",
    "plt.title(\"Dados transformados com LDA\")\n",
    "plt.xlabel('Componente Discriminante 1')\n",
    "plt.ylabel('Classe')\n",
    "plt.legend()\n",
    "plt.show()"
   ]
  },
  {
   "cell_type": "markdown",
   "metadata": {},
   "source": [
    "• number of classes (for multi-class classification problems)"
   ]
  },
  {
   "cell_type": "code",
   "execution_count": null,
   "metadata": {},
   "outputs": [],
   "source": []
  },
  {
   "cell_type": "markdown",
   "metadata": {},
   "source": [
    "### QDA"
   ]
  },
  {
   "cell_type": "markdown",
   "metadata": {},
   "source": [
    "### Decision Tree without pruning"
   ]
  },
  {
   "cell_type": "markdown",
   "metadata": {},
   "source": [
    "### Decision Tree with a maximum depth of 2"
   ]
  },
  {
   "cell_type": "markdown",
   "metadata": {},
   "source": [
    "### SVM linear"
   ]
  },
  {
   "cell_type": "markdown",
   "metadata": {},
   "source": [
    "### SVM RBF"
   ]
  }
 ],
 "metadata": {
  "kernelspec": {
   "display_name": "Python 3",
   "language": "python",
   "name": "python3"
  },
  "language_info": {
   "codemirror_mode": {
    "name": "ipython",
    "version": 3
   },
   "file_extension": ".py",
   "mimetype": "text/x-python",
   "name": "python",
   "nbconvert_exporter": "python",
   "pygments_lexer": "ipython3",
   "version": "3.9.0"
  }
 },
 "nbformat": 4,
 "nbformat_minor": 2
}
